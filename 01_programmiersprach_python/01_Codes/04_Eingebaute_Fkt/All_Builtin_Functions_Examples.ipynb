{
  "cells": [
    {
      "cell_type": "code",
      "execution_count": 1,
      "metadata": {},
      "outputs": [
        {
          "name": "stdout",
          "output_type": "stream",
          "text": [
            "Hallo, Welt!\n"
          ]
        },
        {
          "data": {
            "text/plain": [
              "'d'"
            ]
          },
          "execution_count": 1,
          "metadata": {},
          "output_type": "execute_result"
        }
      ],
      "source": [
        "# Ein- und Ausgabe\n",
        "print(\"Hallo, Welt!\")\n",
        "input(\"Gib etwas ein: \")\n"
      ]
    },
    {
      "cell_type": "code",
      "execution_count": 2,
      "metadata": {},
      "outputs": [
        {
          "data": {
            "text/plain": [
              "(1, 2, 3)"
            ]
          },
          "execution_count": 2,
          "metadata": {},
          "output_type": "execute_result"
        }
      ],
      "source": [
        "# Typumwandlung\n",
        "int('5')\n",
        "float('5.5')\n",
        "str(123)\n",
        "bool(1)\n",
        "list('abc')\n",
        "dict([(\"a\",1),(\"b\",2)])\n",
        "set([1,2,2,3])\n",
        "tuple([1,2,3])"
      ]
    },
    {
      "cell_type": "code",
      "execution_count": 3,
      "metadata": {},
      "outputs": [
        {
          "data": {
            "text/plain": [
              "8"
            ]
          },
          "execution_count": 3,
          "metadata": {},
          "output_type": "execute_result"
        }
      ],
      "source": [
        "# Mathematisch\n",
        "abs(-10)\n",
        "round(3.1415,2)\n",
        "sum([1,2,3])\n",
        "min(1,2,3)\n",
        "max(1,2,3)\n",
        "divmod(9,4)\n",
        "pow(2,3)"
      ]
    },
    {
      "cell_type": "code",
      "execution_count": 4,
      "metadata": {},
      "outputs": [
        {
          "data": {
            "text/plain": [
              "[3, 2, 1]"
            ]
          },
          "execution_count": 4,
          "metadata": {},
          "output_type": "execute_result"
        }
      ],
      "source": [
        "# Iteration\n",
        "len([1,2,3])\n",
        "range(5)\n",
        "list(enumerate(['a','b']))\n",
        "list(zip([1,2],[3,4]))\n",
        "list(map(lambda x:x*2, [1,2,3]))\n",
        "list(filter(lambda x:x%2==0, [1,2,3,4]))\n",
        "sorted([3,1,2])\n",
        "list(reversed([1,2,3]))"
      ]
    },
    {
      "cell_type": "code",
      "execution_count": 6,
      "metadata": {},
      "outputs": [
        {
          "name": "stdout",
          "output_type": "stream",
          "text": [
            "Help on built-in function len in module builtins:\n",
            "\n",
            "len(obj, /)\n",
            "    Return the number of items in a container.\n",
            "\n"
          ]
        },
        {
          "data": {
            "text/plain": [
              "{'__name__': '__main__',\n",
              " '__doc__': 'Automatically created module for IPython interactive environment',\n",
              " '__package__': None,\n",
              " '__loader__': None,\n",
              " '__spec__': None,\n",
              " '__builtin__': <module 'builtins' (built-in)>,\n",
              " '__builtins__': <module 'builtins' (built-in)>,\n",
              " '_ih': ['',\n",
              "  '# Ein- und Ausgabe\\nprint(\"Hallo, Welt!\")\\ninput(\"Gib etwas ein: \")',\n",
              "  '# Typumwandlung\\nint(\\'5\\')\\nfloat(\\'5.5\\')\\nstr(123)\\nbool(1)\\nlist(\\'abc\\')\\ndict([(\"a\",1),(\"b\",2)])\\nset([1,2,2,3])\\ntuple([1,2,3])',\n",
              "  '# Mathematisch\\nabs(-10)\\nround(3.1415,2)\\nsum([1,2,3])\\nmin(1,2,3)\\nmax(1,2,3)\\ndivmod(9,4)\\npow(2,3)',\n",
              "  \"# Iteration\\nlen([1,2,3])\\nrange(5)\\nlist(enumerate(['a','b']))\\nlist(zip([1,2],[3,4]))\\nlist(map(lambda x:x*2, [1,2,3]))\\nlist(filter(lambda x:x%2==0, [1,2,3,4]))\\nsorted([3,1,2])\\nlist(reversed([1,2,3]))\",\n",
              "  \"# Prüfen\\nisinstance(5, int)\\nissubclass(bool, int)\\nhasattr(str, 'upper')\\ngetattr(str, 'upper')\\nall([True,True,False])\\nany([False, True, False])\\ncallable(len)\",\n",
              "  \"# Sonstiges\\nopen('test.txt','w').write('Hallo')\\nhelp(len)\\nid(5)\\ntype(5)\\nhash('abc')\\ndir([])\\nvars()\"],\n",
              " '_oh': {1: 'd', 2: (1, 2, 3), 3: 8, 4: [3, 2, 1], 5: True},\n",
              " '_dh': [WindowsPath('c:/Users/MASUS/Desktop/00_WBS/PCAP/01_Python/18_Python_BU_oct_24/01_Codes/04_Eingebaute_FKT')],\n",
              " 'In': ['',\n",
              "  '# Ein- und Ausgabe\\nprint(\"Hallo, Welt!\")\\ninput(\"Gib etwas ein: \")',\n",
              "  '# Typumwandlung\\nint(\\'5\\')\\nfloat(\\'5.5\\')\\nstr(123)\\nbool(1)\\nlist(\\'abc\\')\\ndict([(\"a\",1),(\"b\",2)])\\nset([1,2,2,3])\\ntuple([1,2,3])',\n",
              "  '# Mathematisch\\nabs(-10)\\nround(3.1415,2)\\nsum([1,2,3])\\nmin(1,2,3)\\nmax(1,2,3)\\ndivmod(9,4)\\npow(2,3)',\n",
              "  \"# Iteration\\nlen([1,2,3])\\nrange(5)\\nlist(enumerate(['a','b']))\\nlist(zip([1,2],[3,4]))\\nlist(map(lambda x:x*2, [1,2,3]))\\nlist(filter(lambda x:x%2==0, [1,2,3,4]))\\nsorted([3,1,2])\\nlist(reversed([1,2,3]))\",\n",
              "  \"# Prüfen\\nisinstance(5, int)\\nissubclass(bool, int)\\nhasattr(str, 'upper')\\ngetattr(str, 'upper')\\nall([True,True,False])\\nany([False, True, False])\\ncallable(len)\",\n",
              "  \"# Sonstiges\\nopen('test.txt','w').write('Hallo')\\nhelp(len)\\nid(5)\\ntype(5)\\nhash('abc')\\ndir([])\\nvars()\"],\n",
              " 'Out': {1: 'd', 2: (1, 2, 3), 3: 8, 4: [3, 2, 1], 5: True},\n",
              " 'get_ipython': <bound method InteractiveShell.get_ipython of <ipykernel.zmqshell.ZMQInteractiveShell object at 0x000001DB1112AD10>>,\n",
              " 'exit': <IPython.core.autocall.ZMQExitAutocall at 0x1db11133b50>,\n",
              " 'quit': <IPython.core.autocall.ZMQExitAutocall at 0x1db11133b50>,\n",
              " 'open': <function io.open(file, mode='r', buffering=-1, encoding=None, errors=None, newline=None, closefd=True, opener=None)>,\n",
              " '_': True,\n",
              " '__': [3, 2, 1],\n",
              " '___': 8,\n",
              " '__vsc_ipynb_file__': 'c:\\\\Users\\\\MASUS\\\\Desktop\\\\00_WBS\\\\PCAP\\\\01_Python\\\\18_Python_BU_oct_24\\\\01_Codes\\\\04_Eingebaute_FKT\\\\All_Builtin_Functions_Examples.ipynb',\n",
              " '_i': \"# Prüfen\\nisinstance(5, int)\\nissubclass(bool, int)\\nhasattr(str, 'upper')\\ngetattr(str, 'upper')\\nall([True,True,False])\\nany([False, True, False])\\ncallable(len)\",\n",
              " '_ii': \"# Iteration\\nlen([1,2,3])\\nrange(5)\\nlist(enumerate(['a','b']))\\nlist(zip([1,2],[3,4]))\\nlist(map(lambda x:x*2, [1,2,3]))\\nlist(filter(lambda x:x%2==0, [1,2,3,4]))\\nsorted([3,1,2])\\nlist(reversed([1,2,3]))\",\n",
              " '_iii': '# Mathematisch\\nabs(-10)\\nround(3.1415,2)\\nsum([1,2,3])\\nmin(1,2,3)\\nmax(1,2,3)\\ndivmod(9,4)\\npow(2,3)',\n",
              " '_i1': '# Ein- und Ausgabe\\nprint(\"Hallo, Welt!\")\\ninput(\"Gib etwas ein: \")',\n",
              " '_1': 'd',\n",
              " '_i2': '# Typumwandlung\\nint(\\'5\\')\\nfloat(\\'5.5\\')\\nstr(123)\\nbool(1)\\nlist(\\'abc\\')\\ndict([(\"a\",1),(\"b\",2)])\\nset([1,2,2,3])\\ntuple([1,2,3])',\n",
              " '_2': (1, 2, 3),\n",
              " '_i3': '# Mathematisch\\nabs(-10)\\nround(3.1415,2)\\nsum([1,2,3])\\nmin(1,2,3)\\nmax(1,2,3)\\ndivmod(9,4)\\npow(2,3)',\n",
              " '_3': 8,\n",
              " '_i4': \"# Iteration\\nlen([1,2,3])\\nrange(5)\\nlist(enumerate(['a','b']))\\nlist(zip([1,2],[3,4]))\\nlist(map(lambda x:x*2, [1,2,3]))\\nlist(filter(lambda x:x%2==0, [1,2,3,4]))\\nsorted([3,1,2])\\nlist(reversed([1,2,3]))\",\n",
              " '_4': [3, 2, 1],\n",
              " '_i5': \"# Prüfen\\nisinstance(5, int)\\nissubclass(bool, int)\\nhasattr(str, 'upper')\\ngetattr(str, 'upper')\\nall([True,True,False])\\nany([False, True, False])\\ncallable(len)\",\n",
              " '_5': True,\n",
              " '_i6': \"# Sonstiges\\nopen('test.txt','w').write('Hallo')\\nhelp(len)\\nid(5)\\ntype(5)\\nhash('abc')\\ndir([])\\nvars()\",\n",
              " '__warningregistry__': {'version': 10}}"
            ]
          },
          "execution_count": 6,
          "metadata": {},
          "output_type": "execute_result"
        }
      ],
      "source": [
        "# Sonstiges\n",
        "open('test.txt','w').write('Hallo')\n",
        "help(len)\n",
        "id(5)\n",
        "type(5)\n",
        "hash('abc')\n",
        "dir([])\n",
        "vars()"
      ]
    }
  ],
  "metadata": {
    "kernelspec": {
      "display_name": "Python 3.11.3 64-bit",
      "language": "python",
      "name": "python3"
    },
    "language_info": {
      "codemirror_mode": {
        "name": "ipython",
        "version": 3
      },
      "file_extension": ".py",
      "mimetype": "text/x-python",
      "name": "python",
      "nbconvert_exporter": "python",
      "pygments_lexer": "ipython3",
      "version": "3.11.3"
    },
    "vscode": {
      "interpreter": {
        "hash": "9ccc6a538a0da06e903987474074493caf94daa74ed2a90c8f8989e97d2dea89"
      }
    }
  },
  "nbformat": 4,
  "nbformat_minor": 2
}
