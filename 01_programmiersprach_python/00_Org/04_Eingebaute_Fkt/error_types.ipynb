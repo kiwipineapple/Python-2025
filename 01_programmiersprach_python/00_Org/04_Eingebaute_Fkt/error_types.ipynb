{
 "cells": [
  {
   "cell_type": "markdown",
   "id": "855200e3",
   "metadata": {},
   "source": [
    "# Häufige Fehlerarten in Python mit Beispielen"
   ]
  },
  {
   "cell_type": "code",
   "execution_count": null,
   "id": "8cf9da82",
   "metadata": {},
   "outputs": [
    {
     "ename": "SyntaxError",
     "evalue": "incomplete input (92498864.py, line 2)",
     "output_type": "error",
     "traceback": [
      "  \u001b[36mCell\u001b[39m\u001b[36m \u001b[39m\u001b[32mIn[1]\u001b[39m\u001b[32m, line 2\u001b[39m\n\u001b[31m    \u001b[39m\u001b[31mprint(\"Hallo\"\u001b[39m\n                 ^\n\u001b[31mSyntaxError\u001b[39m\u001b[31m:\u001b[39m incomplete input\n"
     ]
    }
   ],
   "source": [
    "# SyntaxError\n",
    "print(\"Hallo\")"
   ]
  },
  {
   "cell_type": "code",
   "execution_count": null,
   "id": "1390590e",
   "metadata": {},
   "outputs": [
    {
     "ename": "NameError",
     "evalue": "name 'x' is not defined",
     "output_type": "error",
     "traceback": [
      "\u001b[31m---------------------------------------------------------------------------\u001b[39m",
      "\u001b[31mNameError\u001b[39m                                 Traceback (most recent call last)",
      "\u001b[36mCell\u001b[39m\u001b[36m \u001b[39m\u001b[32mIn[2]\u001b[39m\u001b[32m, line 2\u001b[39m\n\u001b[32m      1\u001b[39m \u001b[38;5;66;03m# NameError\u001b[39;00m\n\u001b[32m----> \u001b[39m\u001b[32m2\u001b[39m \u001b[38;5;28mprint\u001b[39m(\u001b[43mx\u001b[49m) \n",
      "\u001b[31mNameError\u001b[39m: name 'x' is not defined"
     ]
    }
   ],
   "source": [
    "# NameError\n",
    "x= 1\n",
    "print(x) \n",
    " \n"
   ]
  },
  {
   "cell_type": "code",
   "execution_count": null,
   "id": "c160cc04",
   "metadata": {},
   "outputs": [],
   "source": [
    "# TypeError\n",
    "# print(5 + \"abc\") \n",
    " \n",
    "# IndexError\n",
    "# zahlen = [1, 2, 3]\n",
    "# print(zahlen[5]) \n",
    " \n",
    "# KeyError\n",
    "# user = {\"name\": \"Lina\"}\n",
    "# print(user['alter']) \n",
    " \n",
    "# ValueError\n",
    "# zahl = int(\"abc\") \n",
    " \n",
    "# AttributeError\n",
    "# number = 10\n",
    "# number.append(5) \n",
    " \n",
    "# ImportError\n",
    "# import nichtvorhanden"
   ]
  }
 ],
 "metadata": {
  "kernelspec": {
   "display_name": "Python 3",
   "language": "python",
   "name": "python3"
  },
  "language_info": {
   "codemirror_mode": {
    "name": "ipython",
    "version": 3
   },
   "file_extension": ".py",
   "mimetype": "text/x-python",
   "name": "python",
   "nbconvert_exporter": "python",
   "pygments_lexer": "ipython3",
   "version": "3.12.7"
  }
 },
 "nbformat": 4,
 "nbformat_minor": 5
}
